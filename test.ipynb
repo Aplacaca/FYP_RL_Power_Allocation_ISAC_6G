{
 "cells": [
  {
   "cell_type": "code",
   "execution_count": 1,
   "metadata": {},
   "outputs": [],
   "source": [
    "import numpy as np"
   ]
  },
  {
   "cell_type": "code",
   "execution_count": 174,
   "metadata": {},
   "outputs": [],
   "source": [
    "K = 5 #K, total sen&com target number"
   ]
  },
  {
   "cell_type": "code",
   "execution_count": 207,
   "metadata": {},
   "outputs": [],
   "source": [
    "a1_temp = np.array([5.1940, 5.6421, 6.3067, 7.3235, 7.3418], dtype=np.float128)\n",
    "a1 = a1_temp*10000\n",
    "a2 = np.array([2.2633, 2.6584, 2.6519, 2.4226, 2.5756], dtype=np.float128)\n",
    "a3 = np.array([0.9159, 0.9425, 0.9894, 0.9777, 0.9935], dtype=np.float128)\n",
    "g_temp = np.array([0.6592, 0.0454, 0.8506, 0.9347, 0.6819], dtype=np.float128)\n",
    "g = g_temp * 0.0001\n",
    "#情况1：通信0.5W，传感1W.\n",
    "P_c = 0.5 #power of com (W)\n",
    "P_s = 1 #sensing power, about 34dBm, working frequcy 77Hz"
   ]
  },
  {
   "cell_type": "code",
   "execution_count": 106,
   "metadata": {},
   "outputs": [
    {
     "name": "stdout",
     "output_type": "stream",
     "text": [
      "[51940. 56421. 63067. 73235. 73418.] [2.2633 2.6584 2.6519 2.4226 2.5756] [0.9159 0.9425 0.9894 0.9777 0.9935]\n"
     ]
    }
   ],
   "source": [
    "print(a1,a2,a3)"
   ]
  },
  {
   "cell_type": "code",
   "execution_count": 208,
   "metadata": {},
   "outputs": [],
   "source": [
    "T_m= 3  #total time buget (s)\n",
    "T_0 = 6e-5   #T_0 = 0.00006  #a slot of each sensing cycles time (s), note that T_0=T_s\n",
    "E_m = 2.5  #total power buget (J)\n",
    "#T_m/T_0  #thoeriacl max sensing cycles\n",
    "c = np.zeros((1,K), dtype=np.float128) + 200  #initial sensing cycle as 200, the accuracy is 0.7911\n",
    "c_1= np.zeros((1,K), dtype=np.float128) #c_1 denote c + 1\n",
    "M = (T_m - E_m/P_c)/((1-P_s/P_c)*T_0) #M =  #M denote the mid cycles numbers\n",
    "y_max_1 = np.floor(T_m/T_0).astype(np.int64)\n",
    "y_max_2 = np.floor(E_m/(T_0*P_s)).astype(np.int64)\n",
    "B = 10e+6\n",
    "# g = 1e-5 \n",
    "delta = 1e-10\n",
    "\n",
    "out = np.zeros((1,np.floor(T_m/T_0).astype(np.int64)))\n",
    "x = np.zeros((np.floor(T_m/T_0).astype(np.int64),K)) #x is \n",
    "ind_k= np.zeros((1,np.floor(T_m/T_0).astype(np.int64)))\n",
    "#Theta = a3 - a1.*1./((c).^a2)"
   ]
  },
  {
   "cell_type": "code",
   "execution_count": 209,
   "metadata": {},
   "outputs": [],
   "source": [
    "def f_Theta(a1,a2,a3,c):\n",
    "    Theta = a3 - a1*1/(np.power(c, a2))\n",
    "    return Theta"
   ]
  },
  {
   "cell_type": "code",
   "execution_count": 210,
   "metadata": {},
   "outputs": [],
   "source": [
    "#sensing cycles allocation, y is total cycles\n",
    "for y in list(range(200*K+1, min(y_max_1,y_max_2)+1)): #y的取值是因为每个目标都至少分配了200轮\n",
    "    #y_1 = y - 200*K  #y_1 is index of 'out'\n",
    "    if (1-P_s/P_c)*T_0 > 0: #判断正负，如果正执行后者E_m/P_c-P_s/P_c*T_0*y\n",
    "        if y <= M:  \n",
    "            c_1 = c + 1  #c_1\n",
    "            Theta_div = f_Theta(a1,a2,a3,c_1) - f_Theta(a1,a2,a3,c)   #denote the \"gradient\" of Theta\n",
    "            max_ind = np.argmax(Theta_div, axis=-1)  #find k^\n",
    "            max_val = Theta_div[:,max_ind]\n",
    "            c[:,max_ind] = c[:,max_ind] + 1 \n",
    "            out[:,y] = np.sum(np.log(f_Theta(a1,a2,a3,c))) +K*np.log(E_m/P_c-P_s/P_c*T_0*y)  # out denote the output value if objective function\n",
    "        else: #执行前者\n",
    "            c_1 = c + 1   #\n",
    "            Theta_div = f_Theta(a1,a2,a3,c_1) - f_Theta(a1,a2,a3,c)   #denote the \"gradient\" of Theta\n",
    "            max_ind = np.argmax(Theta_div, axis=-1)  #find k^\n",
    "            max_val = Theta_div[:,max_ind]\n",
    "            c[:,max_ind] = c[:,max_ind] + 1 \n",
    "            out[:,y] = np.sum(np.log(f_Theta(a1,a2,a3,c))) +K*np.log(T_m-T_0*y) \n",
    "    else:\n",
    "        if y <=M: #判断正负，如果负执行前者者T_m-T_0*y\n",
    "            c_1 = c + 1   #\n",
    "            Theta_div = f_Theta(a1,a2,a3,c_1) - f_Theta(a1,a2,a3,c)   #denote the \"gradient\" of Theta\n",
    "            max_ind = np.argmax(Theta_div, axis=-1)  #find k^\n",
    "            max_val = Theta_div[:,max_ind]\n",
    "            c[:,max_ind] = c[:,max_ind] + 1 \n",
    "            out[:,y] = np.sum(np.log(f_Theta(a1,a2,a3,c))) +K*np.log(T_m-T_0*y) \n",
    "        else: #执行后者\n",
    "            c_1 = c + 1  #c_1\n",
    "            Theta_div = f_Theta(a1,a2,a3,c_1) - f_Theta(a1,a2,a3,c)   #denote the \"gradient\" of Theta\n",
    "            max_ind = np.argmax(Theta_div, axis=-1)  #find k^\n",
    "            max_val = Theta_div[:,max_ind]\n",
    "            c[:,max_ind] = c[:,max_ind] + 1 \n",
    "            out[:,y] = np.sum(np.log(f_Theta(a1,a2,a3,c))) +K*np.log(E_m/P_c-P_s/P_c*T_0*y)  # out denote the output value if objective function\n",
    "    # if max_ind > 0:\n",
    "    #     print(\"max_ind: \", max_ind, \"c: \", c[:,max_ind])    \n",
    "    x[y,max_ind] = c[:,max_ind] \n",
    "    ind_k[:,y]= max_ind + 1\n",
    "    #ind_k(y)= max_ind "
   ]
  },
  {
   "cell_type": "code",
   "execution_count": 211,
   "metadata": {},
   "outputs": [
    {
     "data": {
      "text/plain": [
       "112762.0"
      ]
     },
     "execution_count": 211,
     "metadata": {},
     "output_type": "execute_result"
    }
   ],
   "source": [
    "np.sum(ind_k)"
   ]
  },
  {
   "cell_type": "code",
   "execution_count": 212,
   "metadata": {},
   "outputs": [
    {
     "name": "stdout",
     "output_type": "stream",
     "text": [
      "2169\n",
      "[605. 324. 337. 507. 395.]\n",
      "[4.99358657]\n"
     ]
    }
   ],
   "source": [
    "opt_y_value = np.argmax(out)  #find object y which makes object max\n",
    "max_out = out[:,opt_y_value]\n",
    "print(opt_y_value)\n",
    "opt_c_value = np.max(x[0:opt_y_value,:],axis=0)  #the optimal varialble value (c_1,...c_5)\n",
    "print(opt_c_value)\n",
    "#target_index = ind_k(max_y_ind-4:max_y_ind)\n",
    "#max_c_value\n",
    "t_test = E_m/P_c-P_s/P_c*T_0*1975\n",
    "#[max_val, max_ind] = max(Theta_div)  \n",
    "print(out[:,opt_y_value])"
   ]
  },
  {
   "cell_type": "code",
   "execution_count": 213,
   "metadata": {},
   "outputs": [],
   "source": [
    "temp1 = T_m-T_0*opt_y_value\n",
    "temp2 = E_m/P_c-P_s/P_c*T_0*opt_y_value\n",
    "t_k = 1/K * min(T_m-T_0*opt_y_value, E_m/P_c-P_s/P_c*T_0*opt_y_value)\n",
    "opt_rate = np.sum(np.log(f_Theta(a1,a2,a3,opt_c_value)*(t_k/T_m * B *np.log2(1+g*P_c/delta))))"
   ]
  },
  {
   "cell_type": "code",
   "execution_count": 215,
   "metadata": {},
   "outputs": [
    {
     "data": {
      "text/plain": [
       "86.39968693335065665"
      ]
     },
     "execution_count": 215,
     "metadata": {},
     "output_type": "execute_result"
    }
   ],
   "source": [
    "t_k\n",
    "opt_rate"
   ]
  }
 ],
 "metadata": {
  "kernelspec": {
   "display_name": "pytorch_env",
   "language": "python",
   "name": "python3"
  },
  "language_info": {
   "codemirror_mode": {
    "name": "ipython",
    "version": 3
   },
   "file_extension": ".py",
   "mimetype": "text/x-python",
   "name": "python",
   "nbconvert_exporter": "python",
   "pygments_lexer": "ipython3",
   "version": "3.10.4"
  },
  "orig_nbformat": 4,
  "vscode": {
   "interpreter": {
    "hash": "d5d9f781454c056a6218b73ddbc0804c3344546beed30fcf0c196191c26068f2"
   }
  }
 },
 "nbformat": 4,
 "nbformat_minor": 2
}
